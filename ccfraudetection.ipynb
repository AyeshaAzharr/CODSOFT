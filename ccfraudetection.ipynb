{
 "cells": [
  {
   "cell_type": "code",
   "execution_count": 1,
   "id": "d3f372ba-437a-44b6-a5cb-88d79fe4a813",
   "metadata": {
    "tags": []
   },
   "outputs": [],
   "source": [
    "import pandas as pd\n",
    "import csv\n",
    "from sklearn.feature_extraction.text import TfidfVectorizer\n",
    "from sklearn.model_selection import train_test_split\n"
   ]
  },
  {
   "cell_type": "code",
   "execution_count": 2,
   "id": "5334a5bf-291b-47d7-a5f0-7d26187e30e5",
   "metadata": {
    "tags": []
   },
   "outputs": [
    {
     "name": "stdout",
     "output_type": "stream",
     "text": [
      "         Unnamed: 0 trans_date_trans_time               cc_num  \\\n",
      "0                 0   2019-01-01 00:00:18     2703186189652095   \n",
      "1                 1   2019-01-01 00:00:44         630423337322   \n",
      "2                 2   2019-01-01 00:00:51       38859492057661   \n",
      "3                 3   2019-01-01 00:01:16     3534093764340240   \n",
      "4                 4   2019-01-01 00:03:06      375534208663984   \n",
      "...             ...                   ...                  ...   \n",
      "1296670     1296670   2020-06-21 12:12:08       30263540414123   \n",
      "1296671     1296671   2020-06-21 12:12:19     6011149206456997   \n",
      "1296672     1296672   2020-06-21 12:12:32     3514865930894695   \n",
      "1296673     1296673   2020-06-21 12:13:36     2720012583106919   \n",
      "1296674     1296674   2020-06-21 12:13:37  4292902571056973207   \n",
      "\n",
      "                                    merchant       category     amt  \\\n",
      "0                 fraud_Rippin, Kub and Mann       misc_net    4.97   \n",
      "1            fraud_Heller, Gutmann and Zieme    grocery_pos  107.23   \n",
      "2                       fraud_Lind-Buckridge  entertainment  220.11   \n",
      "3         fraud_Kutch, Hermiston and Farrell  gas_transport   45.00   \n",
      "4                        fraud_Keeling-Crist       misc_pos   41.96   \n",
      "...                                      ...            ...     ...   \n",
      "1296670                    fraud_Reichel Inc  entertainment   15.56   \n",
      "1296671             fraud_Abernathy and Sons    food_dining   51.70   \n",
      "1296672                 fraud_Stiedemann Ltd    food_dining  105.93   \n",
      "1296673  fraud_Reinger, Weissnat and Strosin    food_dining   74.90   \n",
      "1296674  fraud_Langosh, Wintheiser and Hyatt    food_dining    4.30   \n",
      "\n",
      "               first       last gender                         street  ...  \\\n",
      "0           Jennifer      Banks      F                 561 Perry Cove  ...   \n",
      "1          Stephanie       Gill      F   43039 Riley Greens Suite 393  ...   \n",
      "2             Edward    Sanchez      M       594 White Dale Suite 530  ...   \n",
      "3             Jeremy      White      M    9443 Cynthia Court Apt. 038  ...   \n",
      "4              Tyler     Garcia      M               408 Bradley Rest  ...   \n",
      "...              ...        ...    ...                            ...  ...   \n",
      "1296670         Erik  Patterson      M       162 Jessica Row Apt. 072  ...   \n",
      "1296671      Jeffrey      White      M  8617 Holmes Terrace Suite 651  ...   \n",
      "1296672  Christopher  Castaneda      M     1632 Cohen Drive Suite 639  ...   \n",
      "1296673       Joseph     Murray      M           42933 Ryan Underpass  ...   \n",
      "1296674      Jeffrey      Smith      M           135 Joseph Mountains  ...   \n",
      "\n",
      "             lat      long  city_pop                                job  \\\n",
      "0        36.0788  -81.1781      3495          Psychologist, counselling   \n",
      "1        48.8878 -118.2105       149  Special educational needs teacher   \n",
      "2        42.1808 -112.2620      4154        Nature conservation officer   \n",
      "3        46.2306 -112.1138      1939                    Patent attorney   \n",
      "4        38.4207  -79.4629        99     Dance movement psychotherapist   \n",
      "...          ...       ...       ...                                ...   \n",
      "1296670  37.7175 -112.4777       258                       Geoscientist   \n",
      "1296671  39.2667  -77.5101       100   Production assistant, television   \n",
      "1296672  32.9396 -105.8189       899                    Naval architect   \n",
      "1296673  43.3526 -102.5411      1126              Volunteer coordinator   \n",
      "1296674  45.8433 -113.8748       218           Therapist, horticultural   \n",
      "\n",
      "                dob                         trans_num   unix_time  merch_lat  \\\n",
      "0        1988-03-09  0b242abb623afc578575680df30655b9  1325376018  36.011293   \n",
      "1        1978-06-21  1f76529f8574734946361c461b024d99  1325376044  49.159047   \n",
      "2        1962-01-19  a1a22d70485983eac12b5b88dad1cf95  1325376051  43.150704   \n",
      "3        1967-01-12  6b849c168bdad6f867558c3793159a81  1325376076  47.034331   \n",
      "4        1986-03-28  a41d7549acf90789359a9aa5346dcb46  1325376186  38.674999   \n",
      "...             ...                               ...         ...        ...   \n",
      "1296670  1961-11-24  440b587732da4dc1a6395aba5fb41669  1371816728  36.841266   \n",
      "1296671  1979-12-11  278000d2e0d2277d1de2f890067dcc0a  1371816739  38.906881   \n",
      "1296672  1967-08-30  483f52fe67fabef353d552c1e662974c  1371816752  33.619513   \n",
      "1296673  1980-08-18  d667cdcbadaaed3da3f4020e83591c83  1371816816  42.788940   \n",
      "1296674  1995-08-16  8f7c8e4ab7f25875d753b422917c98c9  1371816817  46.565983   \n",
      "\n",
      "         merch_long  is_fraud  \n",
      "0        -82.048315         0  \n",
      "1       -118.186462         0  \n",
      "2       -112.154481         0  \n",
      "3       -112.561071         0  \n",
      "4        -78.632459         0  \n",
      "...             ...       ...  \n",
      "1296670 -111.690765         0  \n",
      "1296671  -78.246528         0  \n",
      "1296672 -105.130529         0  \n",
      "1296673 -103.241160         0  \n",
      "1296674 -114.186110         0  \n",
      "\n",
      "[1296675 rows x 23 columns]\n"
     ]
    }
   ],
   "source": [
    "data=pd.read_csv(\"fraudTrain.csv\")\n",
    "print(data)"
   ]
  },
  {
   "cell_type": "code",
   "execution_count": 3,
   "id": "6d813739-a475-4238-8a08-f0a101731594",
   "metadata": {
    "tags": []
   },
   "outputs": [
    {
     "name": "stdout",
     "output_type": "stream",
     "text": [
      "<class 'pandas.core.frame.DataFrame'>\n",
      "RangeIndex: 1296675 entries, 0 to 1296674\n",
      "Data columns (total 23 columns):\n",
      " #   Column                 Non-Null Count    Dtype  \n",
      "---  ------                 --------------    -----  \n",
      " 0   Unnamed: 0             1296675 non-null  int64  \n",
      " 1   trans_date_trans_time  1296675 non-null  object \n",
      " 2   cc_num                 1296675 non-null  int64  \n",
      " 3   merchant               1296675 non-null  object \n",
      " 4   category               1296675 non-null  object \n",
      " 5   amt                    1296675 non-null  float64\n",
      " 6   first                  1296675 non-null  object \n",
      " 7   last                   1296675 non-null  object \n",
      " 8   gender                 1296675 non-null  object \n",
      " 9   street                 1296675 non-null  object \n",
      " 10  city                   1296675 non-null  object \n",
      " 11  state                  1296675 non-null  object \n",
      " 12  zip                    1296675 non-null  int64  \n",
      " 13  lat                    1296675 non-null  float64\n",
      " 14  long                   1296675 non-null  float64\n",
      " 15  city_pop               1296675 non-null  int64  \n",
      " 16  job                    1296675 non-null  object \n",
      " 17  dob                    1296675 non-null  object \n",
      " 18  trans_num              1296675 non-null  object \n",
      " 19  unix_time              1296675 non-null  int64  \n",
      " 20  merch_lat              1296675 non-null  float64\n",
      " 21  merch_long             1296675 non-null  float64\n",
      " 22  is_fraud               1296675 non-null  int64  \n",
      "dtypes: float64(5), int64(6), object(12)\n",
      "memory usage: 227.5+ MB\n"
     ]
    },
    {
     "data": {
      "text/plain": [
       "array([0, 1], dtype=int64)"
      ]
     },
     "execution_count": 3,
     "metadata": {},
     "output_type": "execute_result"
    }
   ],
   "source": [
    "data.info()\n",
    "data['is_fraud'].unique()"
   ]
  },
  {
   "cell_type": "code",
   "execution_count": 4,
   "id": "9c900285-a189-411a-b668-ac23eb8ebbfe",
   "metadata": {
    "tags": []
   },
   "outputs": [],
   "source": [
    "data=data.drop(['street','trans_num'],axis=1)"
   ]
  },
  {
   "cell_type": "code",
   "execution_count": 5,
   "id": "30757e3c-b8c9-4924-a33c-aabdde8d0f00",
   "metadata": {
    "tags": []
   },
   "outputs": [
    {
     "data": {
      "text/plain": [
       "Index(['Unnamed: 0', 'trans_date_trans_time', 'cc_num', 'merchant', 'category',\n",
       "       'amt', 'first', 'last', 'gender', 'city', 'state', 'zip', 'lat', 'long',\n",
       "       'city_pop', 'job', 'dob', 'unix_time', 'merch_lat', 'merch_long',\n",
       "       'is_fraud'],\n",
       "      dtype='object')"
      ]
     },
     "execution_count": 5,
     "metadata": {},
     "output_type": "execute_result"
    }
   ],
   "source": [
    "import matplotlib.pyplot as plt\n",
    "data.columns"
   ]
  },
  {
   "cell_type": "code",
   "execution_count": 6,
   "id": "da05e592-606f-4573-bcf5-54cf3c4cc35a",
   "metadata": {
    "tags": []
   },
   "outputs": [
    {
     "name": "stdout",
     "output_type": "stream",
     "text": [
      "0.005822355331224998\n",
      "No Fraud Series Shape: (1289169,)\n",
      "Yes Fraud Series Shape: (7506,)\n"
     ]
    },
    {
     "data": {
      "image/png": "[encoded data removed]",
      "text/plain": [
       "<Figure size 640x480 with 1 Axes>"
      ]
     },
     "metadata": {},
     "output_type": "display_data"
    }
   ],
   "source": [
    "nofraud=data[data.is_fraud==0].amt\n",
    "yesfraud=data[data.is_fraud==1].amt\n",
    "outlierFraction = len(yesfraud)/float(len(nofraud))\n",
    "print(outlierFraction)\n",
    "plt.hist([yesfraud,nofraud],label=['FRAUD','LEGAL'])\n",
    "plt.legend()\n",
    "print(\"No Fraud Series Shape:\", nofraud.shape)\n",
    "print(\"Yes Fraud Series Shape:\", yesfraud.shape)"
   ]
  },
  {
   "cell_type": "code",
   "execution_count": 7,
   "id": "d2352cb7-8a0a-43ad-b1b5-85a3a2bdc515",
   "metadata": {
    "tags": []
   },
   "outputs": [
    {
     "data": {
      "text/plain": [
       "0"
      ]
     },
     "execution_count": 7,
     "metadata": {},
     "output_type": "execute_result"
    }
   ],
   "source": [
    "data.duplicated().sum()"
   ]
  },
  {
   "cell_type": "code",
   "execution_count": 8,
   "id": "ab24b2b2-13e2-4d26-9660-a30e503ab2c8",
   "metadata": {
    "tags": []
   },
   "outputs": [
    {
     "data": {
      "text/plain": [
       "Unnamed: 0               0\n",
       "trans_date_trans_time    0\n",
       "cc_num                   0\n",
       "merchant                 0\n",
       "category                 0\n",
       "amt                      0\n",
       "first                    0\n",
       "last                     0\n",
       "gender                   0\n",
       "city                     0\n",
       "state                    0\n",
       "zip                      0\n",
       "lat                      0\n",
       "long                     0\n",
       "city_pop                 0\n",
       "job                      0\n",
       "dob                      0\n",
       "unix_time                0\n",
       "merch_lat                0\n",
       "merch_long               0\n",
       "is_fraud                 0\n",
       "dtype: int64"
      ]
     },
     "execution_count": 8,
     "metadata": {},
     "output_type": "execute_result"
    }
   ],
   "source": [
    "data.isnull().sum()"
   ]
  },
  {
   "cell_type": "code",
   "execution_count": 9,
   "id": "cc87111d-8e3d-49c1-a8e2-d1c1e52ddd56",
   "metadata": {
    "tags": []
   },
   "outputs": [
    {
     "data": {
      "text/plain": [
       "array([0, 1], dtype=int64)"
      ]
     },
     "execution_count": 9,
     "metadata": {},
     "output_type": "execute_result"
    }
   ],
   "source": [
    "data['is_fraud'].unique()"
   ]
  },
  {
   "cell_type": "code",
   "execution_count": 10,
   "id": "24c7fe2f-ea38-455a-97a5-36694e9ccee7",
   "metadata": {
    "tags": []
   },
   "outputs": [
    {
     "data": {
      "text/plain": [
       "count    7506.000000\n",
       "mean      531.320092\n",
       "std       390.560070\n",
       "min         1.060000\n",
       "25%       245.662500\n",
       "50%       396.505000\n",
       "75%       900.875000\n",
       "max      1376.040000\n",
       "Name: amt, dtype: float64"
      ]
     },
     "execution_count": 10,
     "metadata": {},
     "output_type": "execute_result"
    }
   ],
   "source": [
    "yesfraud.describe()"
   ]
  },
  {
   "cell_type": "code",
   "execution_count": 11,
   "id": "c7bdb3a3-1eb1-4c9a-88d9-e78705ffcee2",
   "metadata": {
    "tags": []
   },
   "outputs": [
    {
     "data": {
      "text/plain": [
       "count    7506.000000\n",
       "mean      531.320092\n",
       "std       390.560070\n",
       "min         1.060000\n",
       "25%       245.662500\n",
       "50%       396.505000\n",
       "75%       900.875000\n",
       "max      1376.040000\n",
       "Name: amt, dtype: float64"
      ]
     },
     "execution_count": 11,
     "metadata": {},
     "output_type": "execute_result"
    }
   ],
   "source": [
    "yesfraud.describe()"
   ]
  },
  {
   "cell_type": "code",
   "execution_count": 12,
   "id": "365987da-cb6e-4527-b471-a216654443ff",
   "metadata": {
    "tags": []
   },
   "outputs": [
    {
     "data": {
      "text/plain": [
       "0    1289169\n",
       "1       7506\n",
       "Name: is_fraud, dtype: int64"
      ]
     },
     "execution_count": 12,
     "metadata": {},
     "output_type": "execute_result"
    }
   ],
   "source": [
    "data['is_fraud'].value_counts()"
   ]
  },
  {
   "cell_type": "code",
   "execution_count": 14,
   "id": "20f385d3-e3cc-441f-a992-f3d8c3bc3fa8",
   "metadata": {
    "tags": []
   },
   "outputs": [
    {
     "name": "stdout",
     "output_type": "stream",
     "text": [
      "         Unnamed: 0 trans_date_trans_time               cc_num     amt  \\\n",
      "1296670     1296670   2020-06-21 12:12:08       30263540414123   15.56   \n",
      "1296671     1296671   2020-06-21 12:12:19     6011149206456997   51.70   \n",
      "1296672     1296672   2020-06-21 12:12:32     3514865930894695  105.93   \n",
      "1296673     1296673   2020-06-21 12:13:36     2720012583106919   74.90   \n",
      "1296674     1296674   2020-06-21 12:13:37  4292902571056973207    4.30   \n",
      "\n",
      "               first       last                      city    zip      lat  \\\n",
      "1296670         Erik  Patterson                     Hatch  84735  37.7175   \n",
      "1296671      Jeffrey      White                 Tuscarora  21790  39.2667   \n",
      "1296672  Christopher  Castaneda  High Rolls Mountain Park  88325  32.9396   \n",
      "1296673       Joseph     Murray                 Manderson  57756  43.3526   \n",
      "1296674      Jeffrey      Smith                      Sula  59871  45.8433   \n",
      "\n",
      "             long  ...  job_Visual merchandiser job_Volunteer coordinator  \\\n",
      "1296670 -112.4777  ...                        0                         0   \n",
      "1296671  -77.5101  ...                        0                         0   \n",
      "1296672 -105.8189  ...                        0                         0   \n",
      "1296673 -102.5411  ...                        0                         1   \n",
      "1296674 -113.8748  ...                        0                         0   \n",
      "\n",
      "         job_Warden/ranger  job_Warehouse manager  \\\n",
      "1296670                  0                      0   \n",
      "1296671                  0                      0   \n",
      "1296672                  0                      0   \n",
      "1296673                  0                      0   \n",
      "1296674                  0                      0   \n",
      "\n",
      "         job_Waste management officer  job_Water engineer  \\\n",
      "1296670                             0                   0   \n",
      "1296671                             0                   0   \n",
      "1296672                             0                   0   \n",
      "1296673                             0                   0   \n",
      "1296674                             0                   0   \n",
      "\n",
      "         job_Water quality scientist  job_Web designer  \\\n",
      "1296670                            0                 0   \n",
      "1296671                            0                 0   \n",
      "1296672                            0                 0   \n",
      "1296673                            0                 0   \n",
      "1296674                            0                 0   \n",
      "\n",
      "         job_Wellsite geologist  job_Writer  \n",
      "1296670                       0           0  \n",
      "1296671                       0           0  \n",
      "1296672                       0           0  \n",
      "1296673                       0           0  \n",
      "1296674                       0           0  \n",
      "\n",
      "[5 rows x 1270 columns]\n"
     ]
    }
   ],
   "source": [
    "columnstoencode = ['merchant', 'category', 'gender', 'state', 'job']\n",
    "dataencode = data[columnstoencode]\n",
    "df_encoded = pd.get_dummies(data=dataencode, sparse=True)\n",
    "data = data.drop(columnstoencode, axis=1)\n",
    "data = pd.concat([data, df_encoded], axis=1)\n",
    "print(data.tail())\n"
   ]
  },
  {
   "cell_type": "code",
   "execution_count": 15,
   "id": "d486bb8a-c60a-4644-82c9-14a8aef12b2d",
   "metadata": {
    "tags": []
   },
   "outputs": [],
   "source": [
    "x=data.drop(['is_fraud'],axis=1)\n",
    "y=data['is_fraud']"
   ]
  },
  {
   "cell_type": "code",
   "execution_count": 16,
   "id": "ea54b262-a659-421c-a9aa-69cf85ce6510",
   "metadata": {
    "tags": []
   },
   "outputs": [
    {
     "name": "stdout",
     "output_type": "stream",
     "text": [
      "[[ 4.97000000e+00  3.60788000e+01 -8.11781000e+01 ...  1.32537602e+09\n",
      "   3.60112930e+01 -8.20483150e+01]\n",
      " [ 1.07230000e+02  4.88878000e+01 -1.18210500e+02 ...  1.32537604e+09\n",
      "   4.91590470e+01 -1.18186462e+02]\n",
      " [ 2.20110000e+02  4.21808000e+01 -1.12262000e+02 ...  1.32537605e+09\n",
      "   4.31507040e+01 -1.12154481e+02]\n",
      " ...\n",
      " [ 1.05930000e+02  3.29396000e+01 -1.05818900e+02 ...  1.37181675e+09\n",
      "   3.36195130e+01 -1.05130529e+02]\n",
      " [ 7.49000000e+01  4.33526000e+01 -1.02541100e+02 ...  1.37181682e+09\n",
      "   4.27889400e+01 -1.03241160e+02]\n",
      " [ 4.30000000e+00  4.58433000e+01 -1.13874800e+02 ...  1.37181682e+09\n",
      "   4.65659830e+01 -1.14186110e+02]]\n"
     ]
    }
   ],
   "source": [
    "from sklearn.preprocessing import MinMaxScaler\n",
    "import numpy as np\n",
    "columnstoscale = ['amt', 'lat', 'long', 'city_pop', 'unix_time', 'merch_lat', 'merch_long']\n",
    "x = data[columnstoscale].values\n",
    "print(x)\n",
    "#MinMaxScaler instance\n",
    "scaler = MinMaxScaler()\n",
    "# batch size for incremental scaling\n",
    "batch_size = 1000\n",
    "# Iterate over the data in chunks and scale incrementally\n",
    "num_samples = x.shape[0]\n",
    "num_batches = int(np.ceil(num_samples / batch_size))\n",
    "scaled_data = []\n",
    "for i in range(num_batches):\n",
    "    start_idx = i * batch_size\n",
    "    end_idx = min((i + 1) * batch_size, num_samples)    \n",
    "    batch = x[start_idx:end_idx]\n",
    "    scaled_batch = scaler.fit_transform(batch)\n",
    "    scaled_data.append(scaled_batch)\n",
    "x_scaled = np.concatenate(scaled_data, axis=0)\n",
    "y = data['is_fraud'].values"
   ]
  },
  {
   "cell_type": "code",
   "execution_count": 17,
   "id": "33c67312-e387-438e-b537-91f63072fd64",
   "metadata": {
    "tags": []
   },
   "outputs": [
    {
     "name": "stdout",
     "output_type": "stream",
     "text": [
      "(1296675, 7)\n",
      "(1296675,)\n"
     ]
    }
   ],
   "source": [
    "print(x_scaled.shape)\n",
    "print(y.shape)"
   ]
  },
  {
   "cell_type": "code",
   "execution_count": 18,
   "id": "eeaa19cf-7e2c-4327-9787-d71491c62180",
   "metadata": {
    "tags": []
   },
   "outputs": [],
   "source": [
    "from sklearn.model_selection import train_test_split\n",
    "xtrain, xtest, ytrain, ytest = train_test_split(x_scaled,y, test_size = 0.2, random_state = 0)"
   ]
  },
  {
   "cell_type": "code",
   "execution_count": 19,
   "id": "6eedc9c4-a1f6-4693-9ac9-700665d6d6e2",
   "metadata": {
    "tags": []
   },
   "outputs": [],
   "source": [
    "from sklearn.ensemble import RandomForestClassifier\n",
    "from sklearn.metrics import accuracy_score, confusion_matrix, classification_report"
   ]
  },
  {
   "cell_type": "markdown",
   "id": "e721bbb0-4e2e-479d-a1d2-6da3ad86d554",
   "metadata": {},
   "source": [
    "LOGISTIC REGRESSION"
   ]
  },
  {
   "cell_type": "code",
   "execution_count": 20,
   "id": "9e76cff1-b560-4c25-9069-5efc67dc6453",
   "metadata": {
    "tags": []
   },
   "outputs": [
    {
     "name": "stdout",
     "output_type": "stream",
     "text": [
      "Accuracy score is: 99.33%\n",
      "Confusion Matrix:\n",
      "<function confusion_matrix at 0x000001DEEE3C1D00>\n",
      "Classification Report:\n",
      "<function classification_report at 0x000001DEEE3C2840>\n"
     ]
    }
   ],
   "source": [
    "from sklearn.linear_model import LogisticRegression\n",
    "lrc = LogisticRegression(max_iter=1000)\n",
    "lrc.fit(xtrain, ytrain)\n",
    "LogisticRegression()\n",
    "from sklearn.metrics import accuracy_score, precision_score, recall_score, f1_score, confusion_matrix\n",
    "ypred = lrc.predict(xtest)\n",
    "accuracy = accuracy_score(ytest, ypred)\n",
    "print(\"Accuracy score is: {}%\".format(round(accuracy*100,2)))\n",
    "print(f\"Confusion Matrix:\\n{confusion_matrix}\")\n",
    "print(f\"Classification Report:\\n{classification_report}\")"
   ]
  },
  {
   "cell_type": "markdown",
   "id": "ca4c790b-15b1-4602-8690-8c73bf84ad97",
   "metadata": {},
   "source": [
    "DECISION TREES"
   ]
  },
  {
   "cell_type": "code",
   "execution_count": 22,
   "id": "253d5d63-7419-418a-9074-b4e36326ce97",
   "metadata": {
    "tags": []
   },
   "outputs": [
    {
     "name": "stdout",
     "output_type": "stream",
     "text": [
      "Accuracy score is: 99.01%\n",
      "Jaccard score is:  0.11238293444328824\n",
      "F1 score is:  0.2020579981290926\n"
     ]
    }
   ],
   "source": [
    "from sklearn.tree import DecisionTreeClassifier\n",
    "from sklearn.metrics import jaccard_score\n",
    "Tree = DecisionTreeClassifier()\n",
    "\n",
    "# Train the model\n",
    "Tree.fit(xtrain, ytrain)\n",
    "predictions = Tree.predict(xtest)\n",
    "Treea = accuracy_score(ytest, predictions)\n",
    "Treej = jaccard_score(ytest, predictions)\n",
    "Treef = f1_score(ytest, predictions)\n",
    "print(\"Accuracy score is: {}%\".format(round(Treea*100,2)))\n",
    "print(\"Jaccard score is: \",Treej)\n",
    "print(\"F1 score is: \",Treef)"
   ]
  },
  {
   "cell_type": "code",
   "execution_count": null,
   "id": "81dcf046-3337-47f9-9e4b-129fc1eb55b1",
   "metadata": {},
   "outputs": [],
   "source": []
  }
 ],
 "metadata": {
  "kernelspec": {
   "display_name": "Python 3 (ipykernel)",
   "language": "python",
   "name": "python3"
  },
  "language_info": {
   "codemirror_mode": {
    "name": "ipython",
    "version": 3
   },
   "file_extension": ".py",
   "mimetype": "text/x-python",
   "name": "python",
   "nbconvert_exporter": "python",
   "pygments_lexer": "ipython3",
   "version": "3.11.3"
  }
 },
 "nbformat": 4,
 "nbformat_minor": 5
}
